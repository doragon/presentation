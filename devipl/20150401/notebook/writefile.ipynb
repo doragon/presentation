{
 "metadata": {
  "name": "",
  "signature": "sha256:fa5dc85b3471a027a66cb7ecdb5109d6ef70e70d7db65789c5e32334b4c71779"
 },
 "nbformat": 3,
 "nbformat_minor": 0,
 "worksheets": [
  {
   "cells": [
    {
     "cell_type": "markdown",
     "metadata": {},
     "source": [
      "# create inventry"
     ]
    },
    {
     "cell_type": "code",
     "collapsed": false,
     "input": [
      "%%writefile inventory\n",
      "[servers]\n",
      "192.168.33.10"
     ],
     "language": "python",
     "metadata": {},
     "outputs": [
      {
       "output_type": "stream",
       "stream": "stdout",
       "text": [
        "Writing inventory\n"
       ]
      }
     ],
     "prompt_number": 3
    },
    {
     "cell_type": "code",
     "collapsed": false,
     "input": [
      "cat inventory"
     ],
     "language": "python",
     "metadata": {},
     "outputs": [
      {
       "output_type": "stream",
       "stream": "stdout",
       "text": [
        "[servers]\r\n",
        "192.168.33.10"
       ]
      }
     ],
     "prompt_number": 4
    },
    {
     "cell_type": "markdown",
     "metadata": {},
     "source": [
      "# create ansible-playbook"
     ]
    },
    {
     "cell_type": "markdown",
     "metadata": {},
     "source": [
      "## ansible-playbook-install-apache2.yml"
     ]
    },
    {
     "cell_type": "code",
     "collapsed": false,
     "input": [
      "%%writefile ansible-playbook-install-apache2.yml\n",
      "---\n",
      "- hosts: 192.168.33.10\n",
      "  user: vagrant\n",
      "  sudo: yes\n",
      "  tasks:\n",
      "  - name: install apache2\n",
      "    apt: name=apache2 state=present update_cache=yes\n",
      "  - name: start apache2\n",
      "    service: name=apache2 state=restarted"
     ],
     "language": "python",
     "metadata": {},
     "outputs": [
      {
       "output_type": "stream",
       "stream": "stdout",
       "text": [
        "Writing ansible-playbook-install-apache2.yml\n"
       ]
      }
     ],
     "prompt_number": 3
    },
    {
     "cell_type": "code",
     "collapsed": false,
     "input": [
      "cat ansible-playbook-install-apache2.yml"
     ],
     "language": "python",
     "metadata": {},
     "outputs": [
      {
       "output_type": "stream",
       "stream": "stdout",
       "text": [
        "---\r\n",
        "- hosts: 192.168.33.10\r\n",
        "  user: vagrant\r\n",
        "  sudo: yes\r\n",
        "  tasks:\r\n",
        "  - name: install apache2\r\n",
        "    apt: name=apache2 state=present update_cache=yes\r\n",
        "  - name: start apache2\r\n",
        "    service: name=apache2 state=started"
       ]
      }
     ],
     "prompt_number": 26
    },
    {
     "cell_type": "markdown",
     "metadata": {},
     "source": [
      "## ansible-playbook-uninstall-apache2.yml"
     ]
    },
    {
     "cell_type": "code",
     "collapsed": false,
     "input": [
      "%%writefile ansible-playbook-uninstall-apache2.yml\n",
      "---\n",
      "- hosts: 192.168.33.10\n",
      "  user: vagrant\n",
      "  sudo: yes\n",
      "  tasks:\n",
      "  - name: stop apache2\n",
      "    service: name=apache2 state=stopped\n",
      "  - name: uninstall apache2\n",
      "    apt: name=apache2 state=absent"
     ],
     "language": "python",
     "metadata": {},
     "outputs": [
      {
       "output_type": "stream",
       "stream": "stdout",
       "text": [
        "Overwriting ansible-playbook-uninstall-apache2.yml\n"
       ]
      }
     ],
     "prompt_number": 6
    },
    {
     "cell_type": "code",
     "collapsed": false,
     "input": [
      "cat ansible-playbook-uninstall-apache2.yml"
     ],
     "language": "python",
     "metadata": {},
     "outputs": [
      {
       "output_type": "stream",
       "stream": "stdout",
       "text": [
        "---\r\n",
        "- hosts: 192.168.33.10\r\n",
        "  user: vagrant\r\n",
        "  sudo: yes\r\n",
        "  tasks:\r\n",
        "  - name: stop apache2\r\n",
        "    service: name=apache2 state=stopped\r\n",
        "  - name: uninstall apache2\r\n",
        "    apt: name=apache2 state=absent"
       ]
      }
     ],
     "prompt_number": 7
    },
    {
     "cell_type": "markdown",
     "metadata": {},
     "source": [
      "## ansible-playbook-install-docker.yml"
     ]
    },
    {
     "cell_type": "code",
     "collapsed": false,
     "input": [
      "%%writefile ansible-playbook-install-docker.yml\n",
      "---\n",
      "- hosts: 192.168.33.10\n",
      "  user: vagrant\n",
      "  sudo: yes\n",
      "  tasks:\n",
      "  - name: install wget\n",
      "    apt: name=wget state=present update_cache=yes\n",
      "  - name: install docker\n",
      "    shell: wget -qO- https://get.docker.com/ | sh\n",
      "  - name: start docker\n",
      "    service: name=docker state=restarted"
     ],
     "language": "python",
     "metadata": {},
     "outputs": [
      {
       "output_type": "stream",
       "stream": "stdout",
       "text": [
        "Overwriting ansible-playbook-install-docker.yml\n"
       ]
      }
     ],
     "prompt_number": 5
    },
    {
     "cell_type": "code",
     "collapsed": false,
     "input": [
      "cat ansible-playbook-install-docker.yml"
     ],
     "language": "python",
     "metadata": {},
     "outputs": [
      {
       "output_type": "stream",
       "stream": "stdout",
       "text": [
        "---\r\n",
        "- hosts: 192.168.33.10\r\n",
        "  user: vagrant\r\n",
        "  sudo: yes\r\n",
        "  tasks:\r\n",
        "  - name: install wget\r\n",
        "    apt: name=wget state=present update_cache=yes\r\n",
        "  - name: install docker\r\n",
        "    shell: wget -qO- https://get.docker.com/ | sh\r\n",
        "  - name: start docker\r\n",
        "    service: name=docker state=started"
       ]
      }
     ],
     "prompt_number": 6
    },
    {
     "cell_type": "markdown",
     "metadata": {},
     "source": [
      "## ansible-playbook-install-td-agent2.yml"
     ]
    },
    {
     "cell_type": "code",
     "collapsed": false,
     "input": [
      "%%writefile ansible-playbook-install-td-agent2.yml\n",
      "---\n",
      "- hosts: 192.168.33.10\n",
      "  user: vagrant\n",
      "  sudo: yes\n",
      "  tasks:\n",
      "  - name: install curl\n",
      "    apt: name=curl state=present update_cache=yes\n",
      "  - name: install td-agent2\n",
      "    shell: curl -L http://toolbelt.treasuredata.com/sh/install-ubuntu-trusty-td-agent2.sh | sh\n",
      "  - name: start td-agent\n",
      "    service: name=td-agent state=started"
     ],
     "language": "python",
     "metadata": {},
     "outputs": [
      {
       "output_type": "stream",
       "stream": "stdout",
       "text": [
        "Overwriting ansible-playbook-install-td-agent2.yml\n"
       ]
      }
     ],
     "prompt_number": 19
    },
    {
     "cell_type": "code",
     "collapsed": false,
     "input": [
      "cat ansible-playbook-install-td-agent2.yml"
     ],
     "language": "python",
     "metadata": {},
     "outputs": [
      {
       "output_type": "stream",
       "stream": "stdout",
       "text": [
        "---\r\n",
        "- hosts: 192.168.33.10\r\n",
        "  user: vagrant\r\n",
        "  sudo: yes\r\n",
        "  tasks:\r\n",
        "  - name: install curl\r\n",
        "    apt: name=curl state=present update_cache=yes\r\n",
        "  - name: install td-agent2\r\n",
        "    shell: curl -L http://toolbelt.treasuredata.com/sh/install-ubuntu-trusty-td-agent2.sh | sh\r\n",
        "  - name: start td-agent\r\n",
        "    service: name=td-agent state=started"
       ]
      }
     ],
     "prompt_number": 20
    },
    {
     "cell_type": "markdown",
     "metadata": {},
     "source": [
      "## ansible-playbook-install-td-agent-plugin.yml\n",
      "\n",
      "### td-agent.conf"
     ]
    },
    {
     "cell_type": "code",
     "collapsed": false,
     "input": [
      "%%writefile td-agent.conf\n",
      "<source>\n",
      "type docker_metrics\n",
      "# stats_interval 1m\n",
      "stats_interval 10s\n",
      "# cgroup_path /sys/fs/cgroup\n",
      "# tag_prefix docker\n",
      "# docker_socket unix:///var/run/docker.sock\n",
      "# docker_network_path /sys/class/net\n",
      "# docker_infos_path /var/lib/docker/execdriver/native\n",
      "</source>\n",
      " \n",
      "<match **>\n",
      "type stdout\n",
      "</match> "
     ],
     "language": "python",
     "metadata": {},
     "outputs": [
      {
       "output_type": "stream",
       "stream": "stdout",
       "text": [
        "Overwriting td-agent.conf\n"
       ]
      }
     ],
     "prompt_number": 25
    },
    {
     "cell_type": "code",
     "collapsed": false,
     "input": [
      "cat td-agent.conf"
     ],
     "language": "python",
     "metadata": {},
     "outputs": [
      {
       "output_type": "stream",
       "stream": "stdout",
       "text": [
        "<source>\r\n",
        "type docker_metrics\r\n",
        "# stats_interval 1m\r\n",
        "stats_interval 10s\r\n",
        "# cgroup_path /sys/fs/cgroup\r\n",
        "# tag_prefix docker\r\n",
        "# docker_socket unix:///var/run/docker.sock\r\n",
        "# docker_network_path /sys/class/net\r\n",
        "# docker_infos_path /var/lib/docker/execdriver/native\r\n",
        "</source>\r\n",
        " \r\n",
        "<match **>\r\n",
        "type stdout\r\n",
        "</match> "
       ]
      }
     ],
     "prompt_number": 26
    },
    {
     "cell_type": "markdown",
     "metadata": {},
     "source": [
      "### td-agent-plugin"
     ]
    },
    {
     "cell_type": "code",
     "collapsed": false,
     "input": [
      "%%writefile ansible-playbook-install-td-agent-plugin.yml\n",
      "---\n",
      "- hosts: 192.168.33.10\n",
      "  user: vagrant\n",
      "  sudo: yes\n",
      "  tasks:\n",
      "  - name: install plugin\n",
      "    shell: /usr/sbin/td-agent-gem install fluent-plugin-docker-metrics\n",
      "  - name: copy td-agent.conf\n",
      "    copy: src=td-agent.conf dest=/etc/td-agent/td-agent.conf force=yes\n",
      "    notify:\n",
      "     - restart td-agent\n",
      "  - name: td-agent user add to docker\n",
      "    shell: gpasswd -a td-agent docker\n",
      "  - name: restart td-agent\n",
      "    service: name=td-agent state=restarted"
     ],
     "language": "python",
     "metadata": {},
     "outputs": [
      {
       "output_type": "stream",
       "stream": "stdout",
       "text": [
        "Writing ansible-playbook-install-td-agent-plugin.yml\n"
       ]
      }
     ],
     "prompt_number": 23
    },
    {
     "cell_type": "code",
     "collapsed": false,
     "input": [
      "cat ansible-playbook-install-td-agent-plugin.yml"
     ],
     "language": "python",
     "metadata": {},
     "outputs": [
      {
       "output_type": "stream",
       "stream": "stdout",
       "text": [
        "---\r\n",
        "- hosts: 192.168.33.10\r\n",
        "  user: vagrant\r\n",
        "  sudo: yes\r\n",
        "  tasks:\r\n",
        "  - name: install plugin\r\n",
        "    shell: /usr/sbin/td-agent-gem install fluent-plugin-docker-metrics\r\n",
        "  - name: copy td-agent.conf\r\n",
        "    copy: src=td-agent.conf dest=/etc/td-agent/td-agent.conf force=yes\r\n",
        "    notify:\r\n",
        "     - restart td-agent\r\n",
        "  - name: td-agent user add to docker\r\n",
        "    shell: gpasswd -a td-agent docker\r\n",
        "  - name: restart td-agent\r\n",
        "    service: name=td-agent state=restarted"
       ]
      }
     ],
     "prompt_number": 24
    },
    {
     "cell_type": "code",
     "collapsed": false,
     "input": [],
     "language": "python",
     "metadata": {},
     "outputs": []
    }
   ],
   "metadata": {}
  }
 ]
}
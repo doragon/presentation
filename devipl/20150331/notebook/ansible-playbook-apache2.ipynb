{
 "metadata": {
  "name": "",
  "signature": "sha256:43558c3b3455a336e45e17a3e8f1a0dc88ed72dbe2d622810b35b702cfd43192"
 },
 "nbformat": 3,
 "nbformat_minor": 0,
 "worksheets": [
  {
   "cells": [
    {
     "cell_type": "markdown",
     "metadata": {},
     "source": [
      "# install and start apache2"
     ]
    },
    {
     "cell_type": "code",
     "collapsed": false,
     "input": [
      "import yaml\n",
      "\n",
      "with open('ansible-playbook-install-apache2.yml') as f:\n",
      "    y = yaml.load(f)\n",
      "y"
     ],
     "language": "python",
     "metadata": {},
     "outputs": [
      {
       "metadata": {},
       "output_type": "pyout",
       "prompt_number": 12,
       "text": [
        "[{'hosts': '192.168.33.10',\n",
        "  'sudo': True,\n",
        "  'tasks': [{'apt': 'name=apache2 state=present update_cache=yes',\n",
        "    'name': 'install apache2'},\n",
        "   {'name': 'start apache2', 'service': 'name=apache2 state=started'}],\n",
        "  'user': 'vagrant'}]"
       ]
      }
     ],
     "prompt_number": 12
    },
    {
     "cell_type": "code",
     "collapsed": false,
     "input": [
      "!ansible-playbook -v -i inventory ansible-playbook-install-apache2.yml"
     ],
     "language": "python",
     "metadata": {},
     "outputs": [
      {
       "output_type": "stream",
       "stream": "stdout",
       "text": [
        "\r\n",
        "PLAY [192.168.33.10] ********************************************************** \r\n",
        "\r\n",
        "GATHERING FACTS *************************************************************** \r\n"
       ]
      },
      {
       "output_type": "stream",
       "stream": "stdout",
       "text": [
        "\u001b[0;32mok: [192.168.33.10]\u001b[0m\r\n",
        "\r\n",
        "TASK: [install apache2] ******************************************************* \r\n"
       ]
      },
      {
       "output_type": "stream",
       "stream": "stdout",
       "text": [
        "\u001b[0;33mchanged: [192.168.33.10] => {\"changed\": true, \"stderr\": \"\", \"stdout\": \"Reading package lists...\\nBuilding dependency tree...\\nReading state information...\\nSuggested packages:\\n  www-browser apache2-doc apache2-suexec-pristine apache2-suexec-custom\\n  apache2-utils\\nThe following NEW packages will be installed:\\n  apache2\\n0 upgraded, 1 newly installed, 0 to remove and 151 not upgraded.\\nNeed to get 0 B/87.4 kB of archives.\\nAfter this operation, 473 kB of additional disk space will be used.\\nSelecting previously unselected package apache2.\\n(Reading database ... 59766 files and directories currently installed.)\\nPreparing to unpack .../apache2_2.4.7-1ubuntu4.4_amd64.deb ...\\nUnpacking apache2 (2.4.7-1ubuntu4.4) ...\\nProcessing triggers for ureadahead (0.100.0-16) ...\\nureadahead will be reprofiled on next reboot\\nProcessing triggers for ufw (0.34~rc-0ubuntu2) ...\\nProcessing triggers for man-db (2.6.7.1-1) ...\\nSetting up apache2 (2.4.7-1ubuntu4.4) ...\\n * Restarting web server apache2\\n   ...done.\\n\"}\u001b[0m\r\n",
        "\r\n",
        "TASK: [start apache2] ********************************************************* \r\n"
       ]
      },
      {
       "output_type": "stream",
       "stream": "stdout",
       "text": [
        "\u001b[0;32mok: [192.168.33.10] => {\"changed\": false, \"name\": \"apache2\", \"state\": \"started\"}\u001b[0m\r\n",
        "\r\n",
        "PLAY RECAP ******************************************************************** \r\n",
        "\u001b[0;33m192.168.33.10\u001b[0m              : \u001b[0;32mok\u001b[0m\u001b[0;32m=\u001b[0m\u001b[0;32m3\u001b[0m    \u001b[0;33mchanged\u001b[0m\u001b[0;33m=\u001b[0m\u001b[0;33m1\u001b[0m    unreachable=0    failed=0   \r\n",
        "\r\n"
       ]
      }
     ],
     "prompt_number": 13
    },
    {
     "cell_type": "code",
     "collapsed": false,
     "input": [
      "!ansible -i inventory 192.168.33.10 --sudo -a 'service apache2 status'"
     ],
     "language": "python",
     "metadata": {},
     "outputs": [
      {
       "output_type": "stream",
       "stream": "stdout",
       "text": [
        "\u001b[0;32m192.168.33.10 | success | rc=0 >>\r\n",
        " * apache2 is running\r\n",
        "\u001b[0m\r\n"
       ]
      }
     ],
     "prompt_number": 1
    },
    {
     "cell_type": "markdown",
     "metadata": {},
     "source": [
      "# stop and uninstall apache2"
     ]
    },
    {
     "cell_type": "code",
     "collapsed": false,
     "input": [
      "import yaml\n",
      "\n",
      "with open('ansible-playbook-uninstall-apache2.yml') as f:\n",
      "    y = yaml.load(f)\n",
      "y"
     ],
     "language": "python",
     "metadata": {},
     "outputs": [
      {
       "metadata": {},
       "output_type": "pyout",
       "prompt_number": 9,
       "text": [
        "[{'hosts': '192.168.33.10',\n",
        "  'sudo': True,\n",
        "  'tasks': [{'name': 'stop apache2', 'service': 'name=apache2 state=stopped'},\n",
        "   {'apt': 'name=apache2 state=absent', 'name': 'uninstall apache2'}],\n",
        "  'user': 'vagrant'}]"
       ]
      }
     ],
     "prompt_number": 9
    },
    {
     "cell_type": "code",
     "collapsed": false,
     "input": [
      "!ansible-playbook -v -i inventory ansible-playbook-uninstall-apache2.yml"
     ],
     "language": "python",
     "metadata": {},
     "outputs": [
      {
       "output_type": "stream",
       "stream": "stdout",
       "text": [
        "\r\n",
        "PLAY [192.168.33.10] ********************************************************** \r\n",
        "\r\n",
        "GATHERING FACTS *************************************************************** \r\n"
       ]
      },
      {
       "output_type": "stream",
       "stream": "stdout",
       "text": [
        "\u001b[0;32mok: [192.168.33.10]\u001b[0m\r\n",
        "\r\n",
        "TASK: [stop apache2] ********************************************************** \r\n"
       ]
      },
      {
       "output_type": "stream",
       "stream": "stdout",
       "text": [
        "\u001b[0;32mok: [192.168.33.10] => {\"changed\": false, \"name\": \"apache2\", \"state\": \"stopped\"}\u001b[0m\r\n",
        "\r\n",
        "TASK: [uninstall apache2] ***************************************************** \r\n"
       ]
      },
      {
       "output_type": "stream",
       "stream": "stdout",
       "text": [
        "\u001b[0;32mok: [192.168.33.10] => {\"changed\": false}\u001b[0m\r\n",
        "\r\n",
        "PLAY RECAP ******************************************************************** \r\n",
        "\u001b[0;32m192.168.33.10\u001b[0m              : \u001b[0;32mok\u001b[0m\u001b[0;32m=\u001b[0m\u001b[0;32m3\u001b[0m    changed=0    unreachable=0    failed=0   \r\n",
        "\r\n"
       ]
      }
     ],
     "prompt_number": 10
    },
    {
     "cell_type": "code",
     "collapsed": false,
     "input": [
      "!ansible -i inventory 192.168.33.10 --sudo -a 'service apache2 status'"
     ],
     "language": "python",
     "metadata": {},
     "outputs": [
      {
       "output_type": "stream",
       "stream": "stdout",
       "text": [
        "\u001b[0;31m192.168.33.10 | FAILED | rc=3 >>\r\n",
        " * apache2 is not running\r\n",
        "\u001b[0m\r\n"
       ]
      }
     ],
     "prompt_number": 11
    },
    {
     "cell_type": "code",
     "collapsed": false,
     "input": [],
     "language": "python",
     "metadata": {},
     "outputs": []
    }
   ],
   "metadata": {}
  }
 ]
}
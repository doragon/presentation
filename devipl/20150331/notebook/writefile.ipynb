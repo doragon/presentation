{
 "metadata": {
  "name": "",
  "signature": "sha256:3916571ca89d51c31f5da71c23bdeaae4c3ecace8c62368f8b891da1eafeae31"
 },
 "nbformat": 3,
 "nbformat_minor": 0,
 "worksheets": [
  {
   "cells": [
    {
     "cell_type": "markdown",
     "metadata": {},
     "source": [
      "# create inventry"
     ]
    },
    {
     "cell_type": "code",
     "collapsed": false,
     "input": [
      "%%writefile inventory\n",
      "[servers]\n",
      "192.168.33.10"
     ],
     "language": "python",
     "metadata": {},
     "outputs": [
      {
       "output_type": "stream",
       "stream": "stdout",
       "text": [
        "Overwriting inventory\n"
       ]
      }
     ],
     "prompt_number": 5
    },
    {
     "cell_type": "code",
     "collapsed": false,
     "input": [
      "cat inventory"
     ],
     "language": "python",
     "metadata": {},
     "outputs": [
      {
       "output_type": "stream",
       "stream": "stdout",
       "text": [
        "[servers]\r\n",
        "192.168.33.10"
       ]
      }
     ],
     "prompt_number": 6
    },
    {
     "cell_type": "markdown",
     "metadata": {},
     "source": [
      "# create ansible-playbook"
     ]
    },
    {
     "cell_type": "markdown",
     "metadata": {},
     "source": [
      "## ansible-playbook-install-apache2.yml"
     ]
    },
    {
     "cell_type": "code",
     "collapsed": false,
     "input": [
      "%%writefile ansible-playbook-install-apache2.yml\n",
      "---\n",
      "- hosts: 192.168.33.10\n",
      "  user: vagrant\n",
      "  sudo: yes\n",
      "  tasks:\n",
      "  - name: install apache2\n",
      "    apt: name=apache2 state=present update_cache=yes\n",
      "  - name: start apache2\n",
      "    service: name=apache2 state=started"
     ],
     "language": "python",
     "metadata": {},
     "outputs": [
      {
       "output_type": "stream",
       "stream": "stdout",
       "text": [
        "Writing ansible-playbook-install-apache2.yml\n"
       ]
      }
     ],
     "prompt_number": 3
    },
    {
     "cell_type": "code",
     "collapsed": false,
     "input": [
      "cat ansible-playbook-install-apache2.yml"
     ],
     "language": "python",
     "metadata": {},
     "outputs": [
      {
       "output_type": "stream",
       "stream": "stdout",
       "text": [
        "---\r\n",
        "- hosts: 192.168.33.10\r\n",
        "  user: vagrant\r\n",
        "  sudo: yes\r\n",
        "  tasks:\r\n",
        "  - name: install apache2\r\n",
        "    apt: name=apache2 state=present update_cache=yes\r\n",
        "  - name: start apache2\r\n",
        "    service: name=apache2 state=started"
       ]
      }
     ],
     "prompt_number": 26
    },
    {
     "cell_type": "markdown",
     "metadata": {},
     "source": [
      "## ansible-playbook-uninstall-apache2.yml"
     ]
    },
    {
     "cell_type": "code",
     "collapsed": false,
     "input": [
      "%%writefile ansible-playbook-uninstall-apache2.yml\n",
      "---\n",
      "- hosts: 192.168.33.10\n",
      "  user: vagrant\n",
      "  sudo: yes\n",
      "  tasks:\n",
      "  - name: stop apache2\n",
      "    service: name=apache2 state=stopped\n",
      "  - name: uninstall apache2\n",
      "    apt: name=apache2 state=absent"
     ],
     "language": "python",
     "metadata": {},
     "outputs": [
      {
       "output_type": "stream",
       "stream": "stdout",
       "text": [
        "Overwriting ansible-playbook-uninstall-apache2.yml\n"
       ]
      }
     ],
     "prompt_number": 6
    },
    {
     "cell_type": "code",
     "collapsed": false,
     "input": [
      "cat ansible-playbook-uninstall-apache2.yml"
     ],
     "language": "python",
     "metadata": {},
     "outputs": [
      {
       "output_type": "stream",
       "stream": "stdout",
       "text": [
        "---\r\n",
        "- hosts: 192.168.33.10\r\n",
        "  user: vagrant\r\n",
        "  sudo: yes\r\n",
        "  tasks:\r\n",
        "  - name: stop apache2\r\n",
        "    service: name=apache2 state=stopped\r\n",
        "  - name: uninstall apache2\r\n",
        "    apt: name=apache2 state=absent"
       ]
      }
     ],
     "prompt_number": 7
    },
    {
     "cell_type": "code",
     "collapsed": false,
     "input": [],
     "language": "python",
     "metadata": {},
     "outputs": []
    }
   ],
   "metadata": {}
  }
 ]
}
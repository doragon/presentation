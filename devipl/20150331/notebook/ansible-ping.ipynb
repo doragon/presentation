{
 "metadata": {
  "name": "",
  "signature": "sha256:d525e4c80c4d6811e289f86028ffe6bc5cf283c19b51d5d39fee46589688725c"
 },
 "nbformat": 3,
 "nbformat_minor": 0,
 "worksheets": [
  {
   "cells": [
    {
     "cell_type": "markdown",
     "metadata": {},
     "source": [
      "# \u758e\u901a\u78ba\u8a8d"
     ]
    },
    {
     "cell_type": "code",
     "collapsed": false,
     "input": [
      "!ansible -m ping -i inventory 192.168.33.10"
     ],
     "language": "python",
     "metadata": {},
     "outputs": [
      {
       "output_type": "stream",
       "stream": "stdout",
       "text": [
        "\u001b[0;32m192.168.33.10 | success >> {\r\n",
        "    \"changed\": false, \r\n",
        "    \"ping\": \"pong\"\r\n",
        "}\r\n",
        "\u001b[0m\r\n"
       ]
      }
     ],
     "prompt_number": 1
    },
    {
     "cell_type": "code",
     "collapsed": false,
     "input": [
      "!ansible -i inventory 192.168.33.10 -a 'uname -r'"
     ],
     "language": "python",
     "metadata": {},
     "outputs": [
      {
       "output_type": "stream",
       "stream": "stdout",
       "text": [
        "\u001b[0;32m192.168.33.10 | success | rc=0 >>\r\n",
        "3.13.0-24-generic\r\n",
        "\u001b[0m\r\n"
       ]
      }
     ],
     "prompt_number": 2
    },
    {
     "cell_type": "markdown",
     "metadata": {},
     "source": [
      "# apt-get update"
     ]
    },
    {
     "cell_type": "code",
     "collapsed": false,
     "input": [
      "!ansible -i inventory 192.168.33.10 --sudo -a 'apt-get update'"
     ],
     "language": "python",
     "metadata": {},
     "outputs": [
      {
       "output_type": "stream",
       "stream": "stdout",
       "text": [
        "\u001b[0;32m192.168.33.10 | success | rc=0 >>\r\n",
        "Ign http://archive.ubuntu.com trusty InRelease\r\n",
        "Ign http://security.ubuntu.com trusty-security InRelease\r\n",
        "Ign http://archive.ubuntu.com trusty-updates InRelease\r\n",
        "Get:1 http://security.ubuntu.com trusty-security Release.gpg [933 B]\r\n",
        "Ign http://archive.ubuntu.com trusty-backports InRelease\r\n",
        "Get:2 http://security.ubuntu.com trusty-security Release [62.0 kB]\r\n",
        "Hit http://archive.ubuntu.com trusty Release.gpg\r\n",
        "Get:3 http://archive.ubuntu.com trusty-updates Release.gpg [933 B]\r\n",
        "Hit http://archive.ubuntu.com trusty-backports Release.gpg\r\n",
        "Hit http://archive.ubuntu.com trusty Release\r\n",
        "Get:4 http://archive.ubuntu.com trusty-updates Release [62.0 kB]\r\n",
        "Get:5 http://security.ubuntu.com trusty-security/main Sources [72.5 kB]\r\n",
        "Get:6 http://security.ubuntu.com trusty-security/restricted Sources [2,061 B]\r\n",
        "Hit http://archive.ubuntu.com trusty-backports Release\r\n",
        "Get:7 http://security.ubuntu.com trusty-security/universe Sources [17.9 kB]\r\n",
        "Hit http://archive.ubuntu.com trusty/main Sources\r\n",
        "Get:8 http://security.ubuntu.com trusty-security/multiverse Sources [1,905 B]\r\n",
        "Hit http://archive.ubuntu.com trusty/restricted Sources\r\n",
        "Get:9 http://security.ubuntu.com trusty-security/main amd64 Packages [222 kB]\r\n",
        "Hit http://archive.ubuntu.com trusty/universe Sources\r\n",
        "Hit http://archive.ubuntu.com trusty/multiverse Sources\r\n",
        "Hit http://archive.ubuntu.com trusty/main amd64 Packages\r\n",
        "Hit http://archive.ubuntu.com trusty/restricted amd64 Packages\r\n",
        "Hit http://archive.ubuntu.com trusty/universe amd64 Packages\r\n",
        "Hit http://archive.ubuntu.com trusty/multiverse amd64 Packages\r\n",
        "Get:10 http://security.ubuntu.com trusty-security/restricted amd64 Packages [8,875 B]\r\n",
        "Hit http://archive.ubuntu.com trusty/main i386 Packages\r\n",
        "Get:11 http://security.ubuntu.com trusty-security/universe amd64 Packages [88.1 kB]\r\n",
        "Hit http://archive.ubuntu.com trusty/restricted i386 Packages\r\n",
        "Get:12 http://security.ubuntu.com trusty-security/multiverse amd64 Packages [3,459 B]\r\n",
        "Hit http://archive.ubuntu.com trusty/universe i386 Packages\r\n",
        "Hit http://archive.ubuntu.com trusty/multiverse i386 Packages\r\n",
        "Get:13 http://security.ubuntu.com trusty-security/main i386 Packages [212 kB]\r\n",
        "Hit http://archive.ubuntu.com trusty/main Translation-en\r\n",
        "Hit http://archive.ubuntu.com trusty/multiverse Translation-en\r\n",
        "Hit http://archive.ubuntu.com trusty/restricted Translation-en\r\n",
        "Hit http://archive.ubuntu.com trusty/universe Translation-en\r\n",
        "Get:14 http://security.ubuntu.com trusty-security/restricted i386 Packages [8,846 B]\r\n",
        "Get:15 http://archive.ubuntu.com trusty-updates/main Sources [184 kB]\r\n",
        "Get:16 http://security.ubuntu.com trusty-security/universe i386 Packages [88.1 kB]\r\n",
        "Get:17 http://archive.ubuntu.com trusty-updates/restricted Sources [2,564 B]\r\n",
        "Get:18 http://archive.ubuntu.com trusty-updates/universe Sources [107 kB]\r\n",
        "Get:19 http://security.ubuntu.com trusty-security/multiverse i386 Packages [3,628 B]\r\n",
        "Hit http://security.ubuntu.com trusty-security/main Translation-en\r\n",
        "Hit http://security.ubuntu.com trusty-security/multiverse Translation-en\r\n",
        "Hit http://security.ubuntu.com trusty-security/restricted Translation-en\r\n",
        "Hit http://security.ubuntu.com trusty-security/universe Translation-en\r\n",
        "Get:20 http://archive.ubuntu.com trusty-updates/multiverse Sources [4,484 B]\r\n",
        "Get:21 http://archive.ubuntu.com trusty-updates/main amd64 Packages [454 kB]\r\n",
        "Get:22 http://archive.ubuntu.com trusty-updates/restricted amd64 Packages [9,238 B]\r\n",
        "Get:23 http://archive.ubuntu.com trusty-updates/universe amd64 Packages [259 kB]\r\n",
        "Get:24 http://archive.ubuntu.com trusty-updates/multiverse amd64 Packages [11.2 kB]\r\n",
        "Get:25 http://archive.ubuntu.com trusty-updates/main i386 Packages [444 kB]\r\n",
        "Get:26 http://archive.ubuntu.com trusty-updates/restricted i386 Packages [9,256 B]\r\n",
        "Get:27 http://archive.ubuntu.com trusty-updates/universe i386 Packages [260 kB]\r\n",
        "Get:28 http://archive.ubuntu.com trusty-updates/multiverse i386 Packages [11.3 kB]\r\n",
        "Hit http://archive.ubuntu.com trusty-updates/main Translation-en\r\n",
        "Hit http://archive.ubuntu.com trusty-updates/multiverse Translation-en\r\n",
        "Hit http://archive.ubuntu.com trusty-updates/restricted Translation-en\r\n",
        "Hit http://archive.ubuntu.com trusty-updates/universe Translation-en\r\n",
        "Hit http://archive.ubuntu.com trusty-backports/main Sources\r\n",
        "Hit http://archive.ubuntu.com trusty-backports/restricted Sources\r\n",
        "Hit http://archive.ubuntu.com trusty-backports/universe Sources\r\n",
        "Hit http://archive.ubuntu.com trusty-backports/multiverse Sources\r\n",
        "Hit http://archive.ubuntu.com trusty-backports/main amd64 Packages\r\n",
        "Hit http://archive.ubuntu.com trusty-backports/restricted amd64 Packages\r\n",
        "Hit http://archive.ubuntu.com trusty-backports/universe amd64 Packages\r\n",
        "Hit http://archive.ubuntu.com trusty-backports/multiverse amd64 Packages\r\n",
        "Hit http://archive.ubuntu.com trusty-backports/main i386 Packages\r\n",
        "Hit http://archive.ubuntu.com trusty-backports/restricted i386 Packages\r\n",
        "Hit http://archive.ubuntu.com trusty-backports/universe i386 Packages\r\n",
        "Hit http://archive.ubuntu.com trusty-backports/multiverse i386 Packages\r\n",
        "Hit http://archive.ubuntu.com trusty-backports/main Translation-en\r\n",
        "Hit http://archive.ubuntu.com trusty-backports/multiverse Translation-en\r\n",
        "Hit http://archive.ubuntu.com trusty-backports/restricted Translation-en\r\n",
        "Hit http://archive.ubuntu.com trusty-backports/universe Translation-en\r\n",
        "Ign http://archive.ubuntu.com trusty/main Translation-en_US\r\n",
        "Ign http://archive.ubuntu.com trusty/multiverse Translation-en_US\r\n",
        "Ign http://archive.ubuntu.com trusty/restricted Translation-en_US\r\n",
        "Ign http://archive.ubuntu.com trusty/universe Translation-en_US\r\n",
        "Fetched 2,610 kB in 27s (96.5 kB/s)\r\n",
        "Reading package lists...\r\n",
        "\u001b[0m\r\n"
       ]
      }
     ],
     "prompt_number": 12
    },
    {
     "cell_type": "code",
     "collapsed": false,
     "input": [],
     "language": "python",
     "metadata": {},
     "outputs": []
    }
   ],
   "metadata": {}
  }
 ]
}
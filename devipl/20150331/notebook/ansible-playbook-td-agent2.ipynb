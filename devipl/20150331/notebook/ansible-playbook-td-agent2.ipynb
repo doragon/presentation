{
 "metadata": {
  "name": "",
  "signature": "sha256:a94caad75546bbe05086bc8ee5e9cc601ba9213c94db329b5f23d41fbc43ddb4"
 },
 "nbformat": 3,
 "nbformat_minor": 0,
 "worksheets": [
  {
   "cells": [
    {
     "cell_type": "markdown",
     "metadata": {},
     "source": [
      "# install and start td-agent2"
     ]
    },
    {
     "cell_type": "code",
     "collapsed": false,
     "input": [
      "import yaml\n",
      "\n",
      "with open('ansible-playbook-install-td-agent2.yml') as f:\n",
      "    y = yaml.load(f)\n",
      "y"
     ],
     "language": "python",
     "metadata": {},
     "outputs": [
      {
       "metadata": {},
       "output_type": "pyout",
       "prompt_number": 15,
       "text": [
        "[{'hosts': '192.168.33.10',\n",
        "  'sudo': True,\n",
        "  'tasks': [{'apt': 'name=curl state=present update_cache=yes',\n",
        "    'name': 'install curl'},\n",
        "   {'name': 'install td-agent2',\n",
        "    'shell': 'curl -L http://toolbelt.treasuredata.com/sh/install-ubuntu-trusty-td-agent2.sh | sh'},\n",
        "   {'name': 'start td-agent', 'service': 'name=td-agent state=started'}],\n",
        "  'user': 'vagrant'}]"
       ]
      }
     ],
     "prompt_number": 15
    },
    {
     "cell_type": "code",
     "collapsed": false,
     "input": [
      "!ansible-playbook -v -i inventory ansible-playbook-install-td-agent2.yml"
     ],
     "language": "python",
     "metadata": {},
     "outputs": [
      {
       "output_type": "stream",
       "stream": "stdout",
       "text": [
        "\r\n",
        "PLAY [192.168.33.10] ********************************************************** \r\n",
        "\r\n",
        "GATHERING FACTS *************************************************************** \r\n"
       ]
      },
      {
       "output_type": "stream",
       "stream": "stdout",
       "text": [
        "\u001b[0;32mok: [192.168.33.10]\u001b[0m\r\n",
        "\r\n",
        "TASK: [install curl] ********************************************************** \r\n"
       ]
      },
      {
       "output_type": "stream",
       "stream": "stdout",
       "text": [
        "\u001b[0;32mok: [192.168.33.10] => {\"changed\": false}\u001b[0m\r\n",
        "\r\n",
        "TASK: [install td-agent2] ***************************************************** \r\n"
       ]
      },
      {
       "output_type": "stream",
       "stream": "stdout",
       "text": [
        "\u001b[0;33mchanged: [192.168.33.10] => {\"changed\": true, \"cmd\": \"curl -L http://toolbelt.treasuredata.com/sh/install-ubuntu-trusty-td-agent2.sh | sh\", \"delta\": \"0:00:47.862009\", \"end\": \"2015-03-31 09:13:27.646306\", \"rc\": 0, \"start\": \"2015-03-31 09:12:39.784297\", \"stderr\": \"  % Total    % Received % Xferd  Average Speed   Time    Time     Time  Current\\n                                 Dload  Upload   Total   Spent    Left  Speed\\n\\r  0     0    0     0    0     0      0      0 --:--:-- --:--:-- --:--:--     0\\r  0     0    0     0    0     0      0      0 --:--:-- --:--:-- --:--:--     0\\r  0     0    0     0    0     0      0      0 --:--:--  0:00:01 --:--:--     0\\r  0     0    0     0    0     0      0      0 --:--:--  0:00:02 --:--:--     0\\r  0     0    0     0    0     0      0      0 --:--:--  0:00:03 --:--:--     0\\r  0     0    0     0    0     0      0      0 --:--:--  0:00:04 --:--:--     0\\r  0     0    0     0    0     0      0      0 --:--:--  0:00:05 --:--:--     0\\r100   575  100   575    0     0     97      0  0:00:05  0:00:05 --:--:--   130\\n  % Total    % Received % Xferd  Average Speed   Time    Time     Time  Current\\n                                 Dload  Upload   Total   Spent    Left  Speed\\n\\r  0     0    0     0    0     0      0      0 --:--:-- --:--:-- --:--:--     0\\r  0     0    0     0    0     0      0      0 --:--:-- --:--:-- --:--:--     0\\r  0     0    0     0    0     0      0      0 --:--:--  0:00:01 --:--:--     0\\r  0     0    0     0    0     0      0      0 --:--:--  0:00:02 --:--:--     0\\r  0     0    0     0    0     0      0      0 --:--:--  0:00:03 --:--:--     0\\r  0     0    0     0    0     0      0      0 --:--:--  0:00:04 --:--:--     0\\r  0     0    0     0    0     0      0      0 --:--:--  0:00:05 --:--:--     0\\r100   934  100   934    0     0    167      0  0:00:05  0:00:05 --:--:--   230\", \"stdout\": \"This script requires superuser access to install apt packages.\\nYou will be prompted for your password by sudo.\\nOK\\nHit http://packages.treasuredata.com trusty InRelease\\nHit http://packages.treasuredata.com trusty/contrib amd64 Packages\\nIgn http://packages.treasuredata.com trusty/contrib Translation-en_US\\nIgn http://packages.treasuredata.com trusty/contrib Translation-en\\nIgn http://archive.ubuntu.com trusty InRelease\\nIgn http://security.ubuntu.com trusty-security InRelease\\nIgn http://archive.ubuntu.com trusty-updates InRelease\\nGet:1 http://security.ubuntu.com trusty-security Release.gpg [933 B]\\nIgn http://archive.ubuntu.com trusty-backports InRelease\\nHit http://archive.ubuntu.com trusty Release.gpg\\nGet:2 http://security.ubuntu.com trusty-security Release [63.5 kB]\\nGet:3 https://get.docker.com docker InRelease\\nHit http://archive.ubuntu.com trusty-updates Release.gpg\\nHit http://archive.ubuntu.com trusty-backports Release.gpg\\nHit http://archive.ubuntu.com trusty Release\\nHit http://archive.ubuntu.com trusty-updates Release\\nIgn https://get.docker.com docker InRelease\\nHit http://archive.ubuntu.com trusty-backports Release\\nHit http://archive.ubuntu.com trusty/main Sources\\nHit http://archive.ubuntu.com trusty/restricted Sources\\nHit http://archive.ubuntu.com trusty/universe Sources\\nHit https://get.docker.com docker Release.gpg\\nHit http://archive.ubuntu.com trusty/multiverse Sources\\nHit http://archive.ubuntu.com trusty/main amd64 Packages\\nHit http://archive.ubuntu.com trusty/restricted amd64 Packages\\nHit http://archive.ubuntu.com trusty/universe amd64 Packages\\nHit https://get.docker.com docker Release\\nGet:4 http://security.ubuntu.com trusty-security/main Sources [76.1 kB]\\nHit http://archive.ubuntu.com trusty/multiverse amd64 Packages\\nHit http://archive.ubuntu.com trusty/main i386 Packages\\nHit http://archive.ubuntu.com trusty/restricted i386 Packages\\nHit http://archive.ubuntu.com trusty/universe i386 Packages\\nHit https://get.docker.com docker/main amd64 Packages\\nHit http://archive.ubuntu.com trusty/multiverse i386 Packages\\nHit http://archive.ubuntu.com trusty/main Translation-en\\nGet:5 http://security.ubuntu.com trusty-security/restricted Sources [2,061 B]\\nHit https://get.docker.com docker/main i386 Packages\\nGet:6 http://security.ubuntu.com trusty-security/universe Sources [18.0 kB]\\nHit http://archive.ubuntu.com trusty/multiverse Translation-en\\nGet:7 http://security.ubuntu.com trusty-security/multiverse Sources [1,905 B]\\nHit http://archive.ubuntu.com trusty/restricted Translation-en\\nGet:8 http://security.ubuntu.com trusty-security/main amd64 Packages [251 kB]\\nHit http://archive.ubuntu.com trusty/universe Translation-en\\nHit http://archive.ubuntu.com trusty-updates/main Sources\\nHit http://archive.ubuntu.com trusty-updates/restricted Sources\\nHit http://archive.ubuntu.com trusty-updates/universe Sources\\nGet:9 https://get.docker.com docker/main Translation-en_US\\nHit http://archive.ubuntu.com trusty-updates/multiverse Sources\\nHit http://archive.ubuntu.com trusty-updates/main amd64 Packages\\nHit http://archive.ubuntu.com trusty-updates/restricted amd64 Packages\\nHit http://archive.ubuntu.com trusty-updates/universe amd64 Packages\\nHit http://archive.ubuntu.com trusty-updates/multiverse amd64 Packages\\nHit http://archive.ubuntu.com trusty-updates/main i386 Packages\\nHit http://archive.ubuntu.com trusty-updates/restricted i386 Packages\\nHit http://archive.ubuntu.com trusty-updates/universe i386 Packages\\nHit http://archive.ubuntu.com trusty-updates/multiverse i386 Packages\\nHit http://archive.ubuntu.com trusty-updates/main Translation-en\\nHit http://archive.ubuntu.com trusty-updates/multiverse Translation-en\\nHit http://archive.ubuntu.com trusty-updates/restricted Translation-en\\nHit http://archive.ubuntu.com trusty-updates/universe Translation-en\\nHit http://archive.ubuntu.com trusty-backports/main Sources\\nHit http://archive.ubuntu.com trusty-backports/restricted Sources\\nHit http://archive.ubuntu.com trusty-backports/universe Sources\\nHit http://archive.ubuntu.com trusty-backports/multiverse Sources\\nHit http://archive.ubuntu.com trusty-backports/main amd64 Packages\\nHit http://archive.ubuntu.com trusty-backports/restricted amd64 Packages\\nHit http://archive.ubuntu.com trusty-backports/universe amd64 Packages\\nGet:10 http://security.ubuntu.com trusty-security/restricted amd64 Packages [8,875 B]\\nHit http://archive.ubuntu.com trusty-backports/multiverse amd64 Packages\\nGet:11 http://security.ubuntu.com trusty-security/universe amd64 Packages [89.7 kB]\\nHit http://archive.ubuntu.com trusty-backports/main i386 Packages\\nHit http://archive.ubuntu.com trusty-backports/restricted i386 Packages\\nHit http://archive.ubuntu.com trusty-backports/universe i386 Packages\\nHit http://archive.ubuntu.com trusty-backports/multiverse i386 Packages\\nHit http://archive.ubuntu.com trusty-backports/main Translation-en\\nHit http://archive.ubuntu.com trusty-backports/multiverse Translation-en\\nGet:12 http://security.ubuntu.com trusty-security/multiverse amd64 Packages [3,459 B]\\nHit http://archive.ubuntu.com trusty-backports/restricted Translation-en\\nGet:13 http://security.ubuntu.com trusty-security/main i386 Packages [242 kB]\\nHit http://archive.ubuntu.com trusty-backports/universe Translation-en\\nGet:14 http://security.ubuntu.com trusty-security/restricted i386 Packages [8,846 B]\\nGet:15 http://security.ubuntu.com trusty-security/universe i386 Packages [89.6 kB]\\nGet:16 http://security.ubuntu.com trusty-security/multiverse i386 Packages [3,628 B]\\nIgn http://archive.ubuntu.com trusty/main Translation-en_US\\nIgn http://archive.ubuntu.com trusty/multiverse Translation-en_US\\nHit http://security.ubuntu.com trusty-security/main Translation-en\\nIgn http://archive.ubuntu.com trusty/restricted Translation-en_US\\nHit http://security.ubuntu.com trusty-security/multiverse Translation-en\\nIgn http://archive.ubuntu.com trusty/universe Translation-en_US\\nHit http://security.ubuntu.com trusty-security/restricted Translation-en\\nHit http://security.ubuntu.com trusty-security/universe Translation-en\\nIgn https://get.docker.com docker/main Translation-en_US\\nIgn https://get.docker.com docker/main Translation-en\\nFetched 860 kB in 34s (25.2 kB/s)\\nReading package lists...\\nReading package lists...\\nBuilding dependency tree...\\nReading state information...\\ntd-agent is already the newest version.\\n0 upgraded, 0 newly installed, 0 to remove and 151 not upgraded.\", \"warnings\": [\"Consider using get_url module rather than running curl\"]}\u001b[0m\r\n",
        "\r\n",
        "TASK: [start td-agent] ******************************************************** \r\n"
       ]
      },
      {
       "output_type": "stream",
       "stream": "stdout",
       "text": [
        "\u001b[0;32mok: [192.168.33.10] => {\"changed\": false, \"name\": \"td-agent\", \"state\": \"started\"}\u001b[0m\r\n",
        "\r\n",
        "PLAY RECAP ******************************************************************** \r\n",
        "\u001b[0;33m192.168.33.10\u001b[0m              : \u001b[0;32mok\u001b[0m\u001b[0;32m=\u001b[0m\u001b[0;32m4\u001b[0m    \u001b[0;33mchanged\u001b[0m\u001b[0;33m=\u001b[0m\u001b[0;33m1\u001b[0m    unreachable=0    failed=0   \r\n",
        "\r\n"
       ]
      }
     ],
     "prompt_number": 16
    },
    {
     "cell_type": "code",
     "collapsed": false,
     "input": [
      "!ansible -i inventory 192.168.33.10 --sudo -a 'service td-agent status'"
     ],
     "language": "python",
     "metadata": {},
     "outputs": [
      {
       "output_type": "stream",
       "stream": "stdout",
       "text": [
        "\u001b[0;32m192.168.33.10 | success | rc=0 >>\r\n",
        " * ruby is running\r\n",
        "\u001b[0m\r\n"
       ]
      }
     ],
     "prompt_number": 17
    },
    {
     "cell_type": "markdown",
     "metadata": {},
     "source": [
      "# install td-agent plugin"
     ]
    },
    {
     "cell_type": "code",
     "collapsed": false,
     "input": [
      "import yaml\n",
      "\n",
      "with open('ansible-playbook-install-td-agent-plugin.yml') as f:\n",
      "    y = yaml.load(f)\n",
      "y"
     ],
     "language": "python",
     "metadata": {},
     "outputs": [
      {
       "metadata": {},
       "output_type": "pyout",
       "prompt_number": 25,
       "text": [
        "[{'hosts': '192.168.33.10',\n",
        "  'sudo': True,\n",
        "  'tasks': [{'name': 'install plugin',\n",
        "    'shell': '/usr/sbin/td-agent-gem install fluent-plugin-docker-metrics'},\n",
        "   {'copy': 'src=td-agent.conf dest=/etc/td-agent/td-agent.conf force=yes',\n",
        "    'name': 'copy td-agent.conf',\n",
        "    'notify': ['restart td-agent']},\n",
        "   {'name': 'td-agent user add to docker',\n",
        "    'shell': 'gpasswd -a td-agent docker'},\n",
        "   {'name': 'restart td-agent', 'service': 'name=td-agent state=restarted'}],\n",
        "  'user': 'vagrant'}]"
       ]
      }
     ],
     "prompt_number": 25
    },
    {
     "cell_type": "code",
     "collapsed": false,
     "input": [
      "!ansible-playbook -v -i inventory ansible-playbook-install-td-agent-plugin.yml"
     ],
     "language": "python",
     "metadata": {},
     "outputs": [
      {
       "output_type": "stream",
       "stream": "stdout",
       "text": [
        "\r\n",
        "PLAY [192.168.33.10] ********************************************************** \r\n",
        "\r\n",
        "GATHERING FACTS *************************************************************** \r\n"
       ]
      },
      {
       "output_type": "stream",
       "stream": "stdout",
       "text": [
        "\u001b[0;32mok: [192.168.33.10]\u001b[0m\r\n",
        "\r\n",
        "TASK: [install plugin] ******************************************************** \r\n"
       ]
      },
      {
       "output_type": "stream",
       "stream": "stdout",
       "text": [
        "\u001b[0;33mchanged: [192.168.33.10] => {\"changed\": true, \"cmd\": \"/usr/sbin/td-agent-gem install fluent-plugin-docker-metrics\", \"delta\": \"0:00:31.364326\", \"end\": \"2015-03-31 09:17:26.421442\", \"rc\": 0, \"start\": \"2015-03-31 09:16:55.057116\", \"stderr\": \"\", \"stdout\": \"Successfully installed fluent-plugin-docker-metrics-0.0.2\\nParsing documentation for fluent-plugin-docker-metrics-0.0.2\\nDone installing documentation for fluent-plugin-docker-metrics after 0 seconds\\n1 gem installed\", \"warnings\": []}\u001b[0m\r\n",
        "\r\n",
        "TASK: [copy td-agent.conf] **************************************************** \r\n"
       ]
      },
      {
       "output_type": "stream",
       "stream": "stdout",
       "text": [
        "\u001b[0;32mok: [192.168.33.10] => {\"changed\": false, \"checksum\": \"286ef72deb93df352a506ea04484b2b95ff28b2c\", \"dest\": \"/etc/td-agent/td-agent.conf\", \"gid\": 0, \"group\": \"root\", \"mode\": \"0644\", \"owner\": \"root\", \"path\": \"/etc/td-agent/td-agent.conf\", \"size\": 296, \"state\": \"file\", \"uid\": 0}\u001b[0m\r\n",
        "\r\n",
        "TASK: [td-agent user add to docker] ******************************************* \r\n"
       ]
      },
      {
       "output_type": "stream",
       "stream": "stdout",
       "text": [
        "\u001b[0;33mchanged: [192.168.33.10] => {\"changed\": true, \"cmd\": \"gpasswd -a td-agent docker\", \"delta\": \"0:00:00.009406\", \"end\": \"2015-03-31 09:17:26.651342\", \"rc\": 0, \"start\": \"2015-03-31 09:17:26.641936\", \"stderr\": \"\", \"stdout\": \"Adding user td-agent to group docker\", \"warnings\": []}\u001b[0m\r\n",
        "\r\n",
        "TASK: [restart td-agent] ****************************************************** \r\n"
       ]
      },
      {
       "output_type": "stream",
       "stream": "stdout",
       "text": [
        "\u001b[0;33mchanged: [192.168.33.10] => {\"changed\": true, \"name\": \"td-agent\", \"state\": \"started\"}\u001b[0m\r\n",
        "\r\n",
        "PLAY RECAP ******************************************************************** \r\n",
        "\u001b[0;33m192.168.33.10\u001b[0m              : \u001b[0;32mok\u001b[0m\u001b[0;32m=\u001b[0m\u001b[0;32m5\u001b[0m    \u001b[0;33mchanged\u001b[0m\u001b[0;33m=\u001b[0m\u001b[0;33m3\u001b[0m    unreachable=0    failed=0   \r\n",
        "\r\n"
       ]
      }
     ],
     "prompt_number": 27
    },
    {
     "cell_type": "code",
     "collapsed": false,
     "input": [
      "!ansible -i inventory 192.168.33.10 --sudo -a 'cat /etc/td-agent/td-agent.conf'"
     ],
     "language": "python",
     "metadata": {},
     "outputs": [
      {
       "output_type": "stream",
       "stream": "stdout",
       "text": [
        "\u001b[0;32m192.168.33.10 | success | rc=0 >>\r\n",
        "<source>\r\n",
        "type docker_metrics\r\n",
        "# stats_interval 1m\r\n",
        "stats_interval 10s\r\n",
        "# cgroup_path /sys/fs/cgroup\r\n",
        "# tag_prefix docker\r\n",
        "# docker_socket unix:///var/run/docker.sock\r\n",
        "# docker_network_path /sys/class/net\r\n",
        "# docker_infos_path /var/lib/docker/execdriver/native\r\n",
        "</source>\r\n",
        " \r\n",
        "<match **>\r\n",
        "type stdout\r\n",
        "</match> \r\n",
        "\u001b[0m\r\n"
       ]
      }
     ],
     "prompt_number": 28
    },
    {
     "cell_type": "code",
     "collapsed": false,
     "input": [
      "!ansible -i inventory 192.168.33.10 --sudo -a 'service td-agent status'"
     ],
     "language": "python",
     "metadata": {},
     "outputs": [
      {
       "output_type": "stream",
       "stream": "stdout",
       "text": [
        "\u001b[0;32m192.168.33.10 | success | rc=0 >>\r\n",
        " * ruby is running\r\n",
        "\u001b[0m\r\n"
       ]
      }
     ],
     "prompt_number": 29
    },
    {
     "cell_type": "code",
     "collapsed": false,
     "input": [
      "!ansible -i inventory 192.168.33.10 --sudo -a 'tail -n 20 /var/log/td-agent/td-agent.log'"
     ],
     "language": "python",
     "metadata": {},
     "outputs": [
      {
       "output_type": "stream",
       "stream": "stdout",
       "text": [
        "\u001b[0;32m192.168.33.10 | success | rc=0 >>\r\n",
        "2015-03-31 09:17:33 +0000 [info]: gem 'fluent-plugin-docker-metrics' version '0.0.2'\r\n",
        "2015-03-31 09:17:33 +0000 [info]: gem 'fluent-plugin-mongo' version '0.7.6'\r\n",
        "2015-03-31 09:17:33 +0000 [info]: gem 'fluent-plugin-rewrite-tag-filter' version '1.4.1'\r\n",
        "2015-03-31 09:17:33 +0000 [info]: gem 'fluent-plugin-s3' version '0.5.6'\r\n",
        "2015-03-31 09:17:33 +0000 [info]: gem 'fluent-plugin-scribe' version '0.10.14'\r\n",
        "2015-03-31 09:17:33 +0000 [info]: gem 'fluent-plugin-td' version '0.10.26'\r\n",
        "2015-03-31 09:17:33 +0000 [info]: gem 'fluent-plugin-td-monitoring' version '0.2.0'\r\n",
        "2015-03-31 09:17:33 +0000 [info]: gem 'fluent-plugin-webhdfs' version '0.4.1'\r\n",
        "2015-03-31 09:17:33 +0000 [info]: gem 'fluentd' version '0.10.61'\r\n",
        "2015-03-31 09:17:33 +0000 [info]: using configuration file: <ROOT>\r\n",
        "  <source>\r\n",
        "    type docker_metrics\r\n",
        "    stats_interval 10s\r\n",
        "  </source>\r\n",
        "  <match **>\r\n",
        "    type stdout\r\n",
        "  </match>\r\n",
        "</ROOT>\r\n",
        "2015-03-31 09:17:33 +0000 [info]: adding source type=\"docker_metrics\"\r\n",
        "2015-03-31 09:17:33 +0000 [info]: adding match pattern=\"**\" type=\"stdout\"\r\n",
        "\u001b[0m\r\n"
       ]
      }
     ],
     "prompt_number": 30
    },
    {
     "cell_type": "code",
     "collapsed": false,
     "input": [
      "!ansible -i inventory 192.168.33.10 --sudo -a 'tail -n 20 /var/log/td-agent/td-agent.log'"
     ],
     "language": "python",
     "metadata": {},
     "outputs": [
      {
       "output_type": "stream",
       "stream": "stdout",
       "text": [
        "\u001b[0;32m192.168.33.10 | success | rc=0 >>\r\n",
        "2015-03-31 09:17:33 +0000 [info]: gem 'fluent-plugin-docker-metrics' version '0.0.2'\r\n",
        "2015-03-31 09:17:33 +0000 [info]: gem 'fluent-plugin-mongo' version '0.7.6'\r\n",
        "2015-03-31 09:17:33 +0000 [info]: gem 'fluent-plugin-rewrite-tag-filter' version '1.4.1'\r\n",
        "2015-03-31 09:17:33 +0000 [info]: gem 'fluent-plugin-s3' version '0.5.6'\r\n",
        "2015-03-31 09:17:33 +0000 [info]: gem 'fluent-plugin-scribe' version '0.10.14'\r\n",
        "2015-03-31 09:17:33 +0000 [info]: gem 'fluent-plugin-td' version '0.10.26'\r\n",
        "2015-03-31 09:17:33 +0000 [info]: gem 'fluent-plugin-td-monitoring' version '0.2.0'\r\n",
        "2015-03-31 09:17:33 +0000 [info]: gem 'fluent-plugin-webhdfs' version '0.4.1'\r\n",
        "2015-03-31 09:17:33 +0000 [info]: gem 'fluentd' version '0.10.61'\r\n",
        "2015-03-31 09:17:33 +0000 [info]: using configuration file: <ROOT>\r\n",
        "  <source>\r\n",
        "    type docker_metrics\r\n",
        "    stats_interval 10s\r\n",
        "  </source>\r\n",
        "  <match **>\r\n",
        "    type stdout\r\n",
        "  </match>\r\n",
        "</ROOT>\r\n",
        "2015-03-31 09:17:33 +0000 [info]: adding source type=\"docker_metrics\"\r\n",
        "2015-03-31 09:17:33 +0000 [info]: adding match pattern=\"**\" type=\"stdout\"\r\n",
        "\u001b[0m\r\n"
       ]
      }
     ],
     "prompt_number": 34
    },
    {
     "cell_type": "code",
     "collapsed": false,
     "input": [
      "!ansible -i inventory 192.168.33.10 --sudo -a 'ls -la /var/log/td-agent/'"
     ],
     "language": "python",
     "metadata": {},
     "outputs": [
      {
       "output_type": "stream",
       "stream": "stdout",
       "text": [
        "\u001b[0;32m192.168.33.10 | success | rc=0 >>\r\n",
        "total 220\r\n",
        "drwxr-xr-x 3 td-agent td-agent   4096 Mar 31 08:36 .\r\n",
        "drwxrwxr-x 8 root     syslog     4096 Mar 31 08:36 ..\r\n",
        "drwxr-xr-x 2 td-agent td-agent   4096 Mar 31 08:36 buffer\r\n",
        "-rw-r--r-- 1 td-agent td-agent 212543 Mar 31 09:17 td-agent.log\r\n",
        "\u001b[0m\r\n"
       ]
      }
     ],
     "prompt_number": 33
    },
    {
     "cell_type": "code",
     "collapsed": false,
     "input": [],
     "language": "python",
     "metadata": {},
     "outputs": []
    }
   ],
   "metadata": {}
  }
 ]
}